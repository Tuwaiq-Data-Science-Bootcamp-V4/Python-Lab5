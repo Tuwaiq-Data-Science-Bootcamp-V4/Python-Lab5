{
 "cells": [
  {
   "cell_type": "code",
   "execution_count": 22,
   "id": "12a6d210",
   "metadata": {},
   "outputs": [],
   "source": [
    "list = [5, 4, 17, 19, 30, 2, 7, 10, 45]"
   ]
  },
  {
   "cell_type": "code",
   "execution_count": 23,
   "id": "c4ff2678",
   "metadata": {},
   "outputs": [
    {
     "data": {
      "text/plain": [
       "139"
      ]
     },
     "execution_count": 23,
     "metadata": {},
     "output_type": "execute_result"
    }
   ],
   "source": [
    "sum(list)"
   ]
  },
  {
   "cell_type": "code",
   "execution_count": 24,
   "id": "8882488a",
   "metadata": {},
   "outputs": [
    {
     "data": {
      "text/plain": [
       "45"
      ]
     },
     "execution_count": 24,
     "metadata": {},
     "output_type": "execute_result"
    }
   ],
   "source": [
    "max(list)"
   ]
  },
  {
   "cell_type": "code",
   "execution_count": 25,
   "id": "86002649",
   "metadata": {},
   "outputs": [
    {
     "data": {
      "text/plain": [
       "[4, 30, 2, 10]"
      ]
     },
     "execution_count": 25,
     "metadata": {},
     "output_type": "execute_result"
    }
   ],
   "source": [
    "evenlst = [x for x in list if x % 2 == 0]\n",
    "evenlst"
   ]
  },
  {
   "cell_type": "code",
   "execution_count": 26,
   "id": "9553dd6e",
   "metadata": {},
   "outputs": [
    {
     "data": {
      "text/plain": [
       "[5, 4, 17, 19, 30, 2]"
      ]
     },
     "execution_count": 26,
     "metadata": {},
     "output_type": "execute_result"
    }
   ],
   "source": [
    "slicedLst = list[0:6]\n",
    "slicedLst"
   ]
  }
 ],
 "metadata": {
  "kernelspec": {
   "display_name": "Python 3 (ipykernel)",
   "language": "python",
   "name": "python3"
  },
  "language_info": {
   "codemirror_mode": {
    "name": "ipython",
    "version": 3
   },
   "file_extension": ".py",
   "mimetype": "text/x-python",
   "name": "python",
   "nbconvert_exporter": "python",
   "pygments_lexer": "ipython3",
   "version": "3.11.4"
  }
 },
 "nbformat": 4,
 "nbformat_minor": 5
}
