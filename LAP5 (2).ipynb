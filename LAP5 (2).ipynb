{
 "cells": [
  {
   "cell_type": "code",
   "execution_count": 67,
   "id": "fe8504e4",
   "metadata": {},
   "outputs": [],
   "source": [
    "l = [5, 4, 17, 19, 30, 2, 7, 10, 45]"
   ]
  },
  {
   "cell_type": "markdown",
   "id": "7618560e",
   "metadata": {},
   "source": [
    "### Write a Python program to sum all the items in the list."
   ]
  },
  {
   "cell_type": "code",
   "execution_count": 59,
   "id": "055b1e8f",
   "metadata": {},
   "outputs": [
    {
     "name": "stdout",
     "output_type": "stream",
     "text": [
      "139\n"
     ]
    }
   ],
   "source": [
    "s= 0\n",
    "\n",
    "for i in range(len(l)):\n",
    "    s += l[i]\n",
    "print(s)\n",
    "\n",
    "    \n",
    "    "
   ]
  },
  {
   "cell_type": "markdown",
   "id": "04800d7b",
   "metadata": {},
   "source": [
    "#### Write a Python program to get the largest number from the list"
   ]
  },
  {
   "cell_type": "code",
   "execution_count": 70,
   "id": "a261d708",
   "metadata": {},
   "outputs": [],
   "source": [
    "#max(l)"
   ]
  },
  {
   "cell_type": "code",
   "execution_count": 66,
   "id": "192e20c5",
   "metadata": {},
   "outputs": [
    {
     "data": {
      "text/plain": [
       "45"
      ]
     },
     "execution_count": 66,
     "metadata": {},
     "output_type": "execute_result"
    }
   ],
   "source": [
    "max_number = l[0]\n",
    "for n in l:\n",
    "    if n > max_number:\n",
    "        max_number = n\n",
    "\n",
    "max_number\n"
   ]
  },
  {
   "cell_type": "markdown",
   "id": "32bc8e26",
   "metadata": {},
   "source": [
    " ### Use list comprehension, create a new list from the above list containing only even numbers."
   ]
  },
  {
   "cell_type": "code",
   "execution_count": 32,
   "id": "6e66f968",
   "metadata": {},
   "outputs": [
    {
     "name": "stdout",
     "output_type": "stream",
     "text": [
      "[4, 30, 2, 10]\n"
     ]
    }
   ],
   "source": [
    "evenl = []\n",
    "for i in l:\n",
    "    if i %2 == 0 :\n",
    "        evenl.append(i)\n",
    "print(evenl)\n",
    "    "
   ]
  },
  {
   "cell_type": "code",
   "execution_count": 39,
   "id": "3da99624",
   "metadata": {
    "scrolled": true
   },
   "outputs": [
    {
     "name": "stdout",
     "output_type": "stream",
     "text": [
      "[4, 30, 2, 10]\n"
     ]
    }
   ],
   "source": [
    "evenl = [ i for i in l if ( i %2 ==0) ]\n",
    "print(evenl)"
   ]
  },
  {
   "cell_type": "markdown",
   "id": "b9a675f6",
   "metadata": {},
   "source": [
    "### Use list slicing to get a new list from the previous list starting from the start to the 5th element in the lis"
   ]
  },
  {
   "cell_type": "code",
   "execution_count": 41,
   "id": "65139519",
   "metadata": {},
   "outputs": [
    {
     "data": {
      "text/plain": [
       "[5, 4, 17, 19, 30]"
      ]
     },
     "execution_count": 41,
     "metadata": {},
     "output_type": "execute_result"
    }
   ],
   "source": [
    "l2 = l[0:5]\n",
    "l2"
   ]
  },
  {
   "cell_type": "code",
   "execution_count": null,
   "id": "3066c790",
   "metadata": {},
   "outputs": [],
   "source": []
  }
 ],
 "metadata": {
  "kernelspec": {
   "display_name": "Python 3 (ipykernel)",
   "language": "python",
   "name": "python3"
  },
  "language_info": {
   "codemirror_mode": {
    "name": "ipython",
    "version": 3
   },
   "file_extension": ".py",
   "mimetype": "text/x-python",
   "name": "python",
   "nbconvert_exporter": "python",
   "pygments_lexer": "ipython3",
   "version": "3.9.16"
  }
 },
 "nbformat": 4,
 "nbformat_minor": 5
}
