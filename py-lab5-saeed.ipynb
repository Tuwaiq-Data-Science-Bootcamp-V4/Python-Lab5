{
 "cells": [
  {
   "cell_type": "code",
   "execution_count": 21,
   "id": "7d212433",
   "metadata": {},
   "outputs": [
    {
     "name": "stdout",
     "output_type": "stream",
     "text": [
      "the sum of the list item is :  139\n"
     ]
    }
   ],
   "source": [
    "list1 = [5, 4, 17, 19, 30, 2, 7, 10, 45]\n",
    "Sum = sum(list1)\n",
    "print (\"the sum of the list item is : \" , Sum)"
   ]
  },
  {
   "cell_type": "code",
   "execution_count": 23,
   "id": "80199842",
   "metadata": {},
   "outputs": [
    {
     "name": "stdout",
     "output_type": "stream",
     "text": [
      "the large numbers in the list is :  45\n"
     ]
    }
   ],
   "source": [
    "list1 = [5, 4, 17, 19, 30, 2, 7, 10, 45]\n",
    "larg = max(list1)\n",
    "print (\"the large numbers in the list is : \" , larg)"
   ]
  },
  {
   "cell_type": "code",
   "execution_count": 35,
   "id": "61ade4df",
   "metadata": {
    "scrolled": true
   },
   "outputs": [
    {
     "name": "stdout",
     "output_type": "stream",
     "text": [
      "the even numbers in the list is :  [4, 30, 2, 10]\n"
     ]
    }
   ],
   "source": [
    "list1 = [5, 4, 17, 19, 30, 2, 7, 10, 45]\n",
    "newlist = []\n",
    "newlist = [i for i in list1 if i%2 == 0]\n",
    "print (\"the even numbers in the list is : \" , newlist)"
   ]
  },
  {
   "cell_type": "code",
   "execution_count": 33,
   "id": "1f3276d4",
   "metadata": {},
   "outputs": [
    {
     "name": "stdout",
     "output_type": "stream",
     "text": [
      "your newlist is :  [5, 4, 17, 19, 30]\n"
     ]
    }
   ],
   "source": [
    "list1 = [5, 4, 17, 19, 30, 2, 7, 10, 45]\n",
    "newlist = list1[0:5]\n",
    "print (\"your newlist is : \" , newlist)"
   ]
  },
  {
   "cell_type": "code",
   "execution_count": null,
   "id": "15e00e99",
   "metadata": {},
   "outputs": [],
   "source": []
  }
 ],
 "metadata": {
  "kernelspec": {
   "display_name": "Python 3 (ipykernel)",
   "language": "python",
   "name": "python3"
  },
  "language_info": {
   "codemirror_mode": {
    "name": "ipython",
    "version": 3
   },
   "file_extension": ".py",
   "mimetype": "text/x-python",
   "name": "python",
   "nbconvert_exporter": "python",
   "pygments_lexer": "ipython3",
   "version": "3.9.7"
  }
 },
 "nbformat": 4,
 "nbformat_minor": 5
}
