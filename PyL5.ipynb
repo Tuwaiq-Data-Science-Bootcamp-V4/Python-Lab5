{
 "cells": [
  {
   "cell_type": "code",
   "execution_count": 24,
   "id": "22de59a5",
   "metadata": {},
   "outputs": [
    {
     "name": "stdout",
     "output_type": "stream",
     "text": [
      "The sum of lst is 139\n"
     ]
    }
   ],
   "source": [
    "# A:1\n",
    "\n",
    "\n",
    "lst = [5, 4, 17,19,30,2,7,10,45]\n",
    "print (\"The sum of lst is\", sum(lst))"
   ]
  },
  {
   "cell_type": "code",
   "execution_count": 25,
   "id": "d311f178",
   "metadata": {},
   "outputs": [
    {
     "name": "stdout",
     "output_type": "stream",
     "text": [
      "Largest number is: 45\n"
     ]
    }
   ],
   "source": [
    "# A:2\n",
    "lst = [5, 4, 17,19,30,2,7,10,45]\n",
    " \n",
    "\n",
    "lst.sort()\n",
    "\n",
    "#max(lst)\n",
    "\n",
    "print(\"Largest number is:\", lst[-1])"
   ]
  },
  {
   "cell_type": "code",
   "execution_count": 26,
   "id": "a3da5c86",
   "metadata": {},
   "outputs": [
    {
     "name": "stdout",
     "output_type": "stream",
     "text": [
      "4 30 2 10 "
     ]
    }
   ],
   "source": [
    "#A:3\n",
    "lst = [5, 4, 17,19,30,2,7,10,45]\n",
    " \n",
    "\n",
    "for num in lst:\n",
    " \n",
    "    if num % 2 == 0:\n",
    "        print(num, end=\" \")"
   ]
  },
  {
   "cell_type": "code",
   "execution_count": 27,
   "id": "56828ca9",
   "metadata": {},
   "outputs": [
    {
     "name": "stdout",
     "output_type": "stream",
     "text": [
      " List: [5, 4, 17, 19, 30, 2, 7, 10, 45]\n",
      " new List: [5, 4, 17, 19, 30]\n"
     ]
    }
   ],
   "source": [
    "# A:4\n",
    "lst = [5, 4, 17,19,30,2,7,10,45]\n",
    " \n",
    "print(\" List:\", lst)\n",
    "print(\" new List:\",lst[0:5])"
   ]
  },
  {
   "cell_type": "code",
   "execution_count": 28,
   "id": "eea642b0",
   "metadata": {},
   "outputs": [
    {
     "name": "stdout",
     "output_type": "stream",
     "text": [
      "Largest number is: 45\n"
     ]
    }
   ],
   "source": [
    "# or A:2\n",
    "def myMax(lst):\n",
    " \n",
    "    max = lst[0]\n",
    "\n",
    "    for x in lst:\n",
    "        if x > max:\n",
    "            max = x\n",
    " \n",
    "\n",
    "    return max\n",
    " \n",
    " \n",
    "\n",
    "lst = [5, 4, 17,19,30,2,7,10,45]\n",
    "print(\"Largest number is:\", myMax(lst))"
   ]
  },
  {
   "cell_type": "code",
   "execution_count": 29,
   "id": "886e1107",
   "metadata": {},
   "outputs": [
    {
     "name": "stdout",
     "output_type": "stream",
     "text": [
      " sum of my_list is 139\n"
     ]
    }
   ],
   "source": [
    "# A:1 \n",
    "def sum_of_list(l):\n",
    "  total = 0\n",
    "  for val in l:\n",
    "    total = total + val\n",
    "  return total\n",
    "\n",
    "my_list = [5, 4, 17,19,30,2,7,10,45]\n",
    "print( \" sum of my_list is\", sum_of_list(my_list))"
   ]
  },
  {
   "cell_type": "code",
   "execution_count": null,
   "id": "6560cbab",
   "metadata": {},
   "outputs": [],
   "source": []
  }
 ],
 "metadata": {
  "kernelspec": {
   "display_name": "Python 3 (ipykernel)",
   "language": "python",
   "name": "python3"
  },
  "language_info": {
   "codemirror_mode": {
    "name": "ipython",
    "version": 3
   },
   "file_extension": ".py",
   "mimetype": "text/x-python",
   "name": "python",
   "nbconvert_exporter": "python",
   "pygments_lexer": "ipython3",
   "version": "3.11.3"
  }
 },
 "nbformat": 4,
 "nbformat_minor": 5
}
