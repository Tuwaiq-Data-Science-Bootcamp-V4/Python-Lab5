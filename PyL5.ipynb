{
 "cells": [
  {
   "cell_type": "code",
   "execution_count": 6,
   "id": "29a5df88",
   "metadata": {},
   "outputs": [
    {
     "name": "stdout",
     "output_type": "stream",
     "text": [
      "The sum of lst is 139\n"
     ]
    }
   ],
   "source": [
    "\n",
    "# lst = [5, 4, 17,19,30,2,7,10,45] # A list can contain different data types\n",
    "#print(lst)\n",
    "\n",
    "lst = [5, 4, 17,19,30,2,7,10,45]\n",
    "print (\"The sum of lst is\", sum(lst))"
   ]
  },
  {
   "cell_type": "code",
   "execution_count": 16,
   "id": "a4148196",
   "metadata": {},
   "outputs": [
    {
     "name": "stdout",
     "output_type": "stream",
     "text": [
      "Largest number  is: 45\n"
     ]
    }
   ],
   "source": [
    "lst = [5, 4, 17,19,30,2,7,10,45]\n",
    " \n",
    "\n",
    "lst.sort()\n",
    "\n",
    "#max(lst)\n",
    "\n",
    "print(\"Largest number  is:\", lst[-1])"
   ]
  },
  {
   "cell_type": "code",
   "execution_count": 19,
   "id": "ebc2c13f",
   "metadata": {},
   "outputs": [
    {
     "name": "stdout",
     "output_type": "stream",
     "text": [
      "4 30 2 10 "
     ]
    }
   ],
   "source": [
    "lst = [5, 4, 17,19,30,2,7,10,45]\n",
    " \n",
    "\n",
    "for num in lst:\n",
    " \n",
    "    if num % 2 == 0:\n",
    "        print(num, end=\" \")"
   ]
  },
  {
   "cell_type": "code",
   "execution_count": 18,
   "id": "744e2fec",
   "metadata": {},
   "outputs": [
    {
     "name": "stdout",
     "output_type": "stream",
     "text": [
      " List: [5, 4, 17, 19, 30, 2, 7, 10, 45]\n",
      "[5, 4, 17, 19, 30]\n"
     ]
    }
   ],
   "source": [
    "\n",
    "lst = [5, 4, 17,19,30,2,7,10,45]\n",
    " \n",
    "print(\" List:\", lst)\n",
    "print(lst[0:5])"
   ]
  },
  {
   "cell_type": "code",
   "execution_count": null,
   "id": "a6252124",
   "metadata": {},
   "outputs": [],
   "source": []
  }
 ],
 "metadata": {
  "kernelspec": {
   "display_name": "Python 3 (ipykernel)",
   "language": "python",
   "name": "python3"
  },
  "language_info": {
   "codemirror_mode": {
    "name": "ipython",
    "version": 3
   },
   "file_extension": ".py",
   "mimetype": "text/x-python",
   "name": "python",
   "nbconvert_exporter": "python",
   "pygments_lexer": "ipython3",
   "version": "3.11.3"
  }
 },
 "nbformat": 4,
 "nbformat_minor": 5
}
