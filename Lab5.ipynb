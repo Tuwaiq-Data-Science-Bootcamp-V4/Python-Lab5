{
 "cells": [
  {
   "cell_type": "code",
   "execution_count": 1,
   "id": "ee585b9c-7c2a-4a0d-a2e8-10efdf7af5bd",
   "metadata": {},
   "outputs": [],
   "source": [
    "lis = [5, 4, 17, 19, 30, 2, 7, 10, 45]"
   ]
  },
  {
   "cell_type": "markdown",
   "id": "1b057b32-f909-43fc-8a9a-b5dcb622c46e",
   "metadata": {},
   "source": [
    " - Q1: Write a Python program to sum all the items in the list."
   ]
  },
  {
   "cell_type": "code",
   "execution_count": 3,
   "id": "587dc733-6bc0-4eb8-b90c-e52485790e93",
   "metadata": {},
   "outputs": [
    {
     "data": {
      "text/plain": [
       "139"
      ]
     },
     "execution_count": 3,
     "metadata": {},
     "output_type": "execute_result"
    }
   ],
   "source": [
    "sum(lis)"
   ]
  },
  {
   "cell_type": "code",
   "execution_count": 15,
   "id": "3373ca8d-28e4-415f-b644-ae85ca0a5da7",
   "metadata": {},
   "outputs": [
    {
     "data": {
      "text/plain": [
       "139"
      ]
     },
     "execution_count": 15,
     "metadata": {},
     "output_type": "execute_result"
    }
   ],
   "source": [
    "count = 0\n",
    "for i in lis:\n",
    "    count += i\n",
    "count"
   ]
  },
  {
   "cell_type": "markdown",
   "id": "5438fbb9-9194-4de3-a5ad-a9e40465e47e",
   "metadata": {},
   "source": [
    "- Q2: Write a Python program to get the largest number from the list."
   ]
  },
  {
   "cell_type": "code",
   "execution_count": 4,
   "id": "fd61efaa-8d33-4f12-ba07-7acad87075ee",
   "metadata": {},
   "outputs": [
    {
     "data": {
      "text/plain": [
       "45"
      ]
     },
     "execution_count": 4,
     "metadata": {},
     "output_type": "execute_result"
    }
   ],
   "source": [
    "max(lis)"
   ]
  },
  {
   "cell_type": "code",
   "execution_count": 21,
   "id": "61622ede-69d7-4f76-a93e-157ab1d54d27",
   "metadata": {},
   "outputs": [
    {
     "data": {
      "text/plain": [
       "45"
      ]
     },
     "execution_count": 21,
     "metadata": {},
     "output_type": "execute_result"
    }
   ],
   "source": [
    "count = 0\n",
    "for i in lis:\n",
    "    if i > count:\n",
    "        count = i\n",
    "count"
   ]
  },
  {
   "cell_type": "markdown",
   "id": "ed013180-cc91-47a1-bac6-245a14fac224",
   "metadata": {},
   "source": [
    "- Q3: Use list comprehension, create a new list from the above list containing only even numbers."
   ]
  },
  {
   "cell_type": "code",
   "execution_count": 11,
   "id": "16da3152-9890-4b1d-8c16-90541994ff0a",
   "metadata": {},
   "outputs": [
    {
     "name": "stdout",
     "output_type": "stream",
     "text": [
      "[4, 30, 2, 10]\n"
     ]
    }
   ],
   "source": [
    "newlst = [i for i in lis if i % 2 == 0 ]\n",
    "print(newlst)"
   ]
  },
  {
   "cell_type": "markdown",
   "id": "ddd707cd-2f0e-43b8-8bbb-2b05e6a8fc4e",
   "metadata": {},
   "source": [
    "- Q4: Use list slicing to get a new list from the previous list starting from the start to the 5th element in the list."
   ]
  },
  {
   "cell_type": "code",
   "execution_count": 10,
   "id": "04623eb2-3a8a-4d8b-bc1a-bbe40031cee6",
   "metadata": {},
   "outputs": [
    {
     "name": "stdout",
     "output_type": "stream",
     "text": [
      "[5, 4, 17, 19, 30]\n"
     ]
    }
   ],
   "source": [
    "newlst2 = lis[:5]\n",
    "print(newlst2)"
   ]
  },
  {
   "cell_type": "code",
   "execution_count": null,
   "id": "50606fa8-051b-47cf-b997-d9b981cd42d9",
   "metadata": {},
   "outputs": [],
   "source": []
  }
 ],
 "metadata": {
  "kernelspec": {
   "display_name": "Python 3 (ipykernel)",
   "language": "python",
   "name": "python3"
  },
  "language_info": {
   "codemirror_mode": {
    "name": "ipython",
    "version": 3
   },
   "file_extension": ".py",
   "mimetype": "text/x-python",
   "name": "python",
   "nbconvert_exporter": "python",
   "pygments_lexer": "ipython3",
   "version": "3.9.13"
  }
 },
 "nbformat": 4,
 "nbformat_minor": 5
}
