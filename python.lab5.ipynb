{
 "cells": [
  {
   "cell_type": "markdown",
   "id": "944a06cd",
   "metadata": {},
   "source": [
    "## Q1"
   ]
  },
  {
   "cell_type": "code",
   "execution_count": 8,
   "id": "365eeb4a",
   "metadata": {},
   "outputs": [
    {
     "name": "stdout",
     "output_type": "stream",
     "text": [
      "139\n",
      "139\n"
     ]
    }
   ],
   "source": [
    "ls=[5, 4, 17, 19, 30, 2, 7, 10, 45]\n",
    "total=0\n",
    "for item in ls:\n",
    "    total=total+item\n",
    "print(total)\n",
    "# second solution\n",
    "print(sum(ls))"
   ]
  },
  {
   "cell_type": "markdown",
   "id": "60373c20",
   "metadata": {},
   "source": [
    "## Q2"
   ]
  },
  {
   "cell_type": "code",
   "execution_count": 9,
   "id": "39ba7382",
   "metadata": {},
   "outputs": [
    {
     "name": "stdout",
     "output_type": "stream",
     "text": [
      "45\n",
      "45\n"
     ]
    }
   ],
   "source": [
    "maxValue=0\n",
    "for item in ls:\n",
    "    if item > maxValue:\n",
    "        maxValue=item\n",
    "print(maxValue)\n",
    "# second solution\n",
    "print(max(ls))"
   ]
  },
  {
   "cell_type": "markdown",
   "id": "7dd50c1a",
   "metadata": {},
   "source": [
    "## Q3"
   ]
  },
  {
   "cell_type": "code",
   "execution_count": 10,
   "id": "ad9288db",
   "metadata": {},
   "outputs": [
    {
     "name": "stdout",
     "output_type": "stream",
     "text": [
      "[4, 30, 2, 10]\n"
     ]
    }
   ],
   "source": [
    "newlst = []\n",
    "newlst = [item for item in ls if  item % 2 == 0]\n",
    "print(newlst)"
   ]
  },
  {
   "cell_type": "markdown",
   "id": "ea10f91e",
   "metadata": {},
   "source": [
    "## Q4"
   ]
  },
  {
   "cell_type": "code",
   "execution_count": 11,
   "id": "cc0f509e",
   "metadata": {},
   "outputs": [
    {
     "name": "stdout",
     "output_type": "stream",
     "text": [
      "[5, 4, 17, 19, 30]\n"
     ]
    }
   ],
   "source": [
    "lst2=ls[0:5]\n",
    "print(lst2)"
   ]
  },
  {
   "cell_type": "code",
   "execution_count": null,
   "id": "590ad8e7",
   "metadata": {},
   "outputs": [],
   "source": []
  }
 ],
 "metadata": {
  "kernelspec": {
   "display_name": "Python 3 (ipykernel)",
   "language": "python",
   "name": "python3"
  },
  "language_info": {
   "codemirror_mode": {
    "name": "ipython",
    "version": 3
   },
   "file_extension": ".py",
   "mimetype": "text/x-python",
   "name": "python",
   "nbconvert_exporter": "python",
   "pygments_lexer": "ipython3",
   "version": "3.11.3"
  }
 },
 "nbformat": 4,
 "nbformat_minor": 5
}
