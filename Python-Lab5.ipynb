{
 "cells": [
  {
   "cell_type": "markdown",
   "id": "71a1803b",
   "metadata": {},
   "source": [
    "# Python-Lab5"
   ]
  },
  {
   "cell_type": "code",
   "execution_count": 1,
   "id": "c276c310",
   "metadata": {},
   "outputs": [],
   "source": [
    "lis = [5, 4, 17, 19, 30, 2, 7, 10, 45]"
   ]
  },
  {
   "cell_type": "markdown",
   "id": "78171483",
   "metadata": {},
   "source": [
    "### Q1: Write a Python program to sum all the items in the list"
   ]
  },
  {
   "cell_type": "code",
   "execution_count": 18,
   "id": "f1fc4469",
   "metadata": {},
   "outputs": [
    {
     "name": "stdout",
     "output_type": "stream",
     "text": [
      "The sum all the items is  139\n",
      "The sum all the items is  139\n"
     ]
    }
   ],
   "source": [
    "# Using for loop \n",
    "total = 0\n",
    "for i in lis:\n",
    "    total += i \n",
    "print(\"The sum all the items is \", total)\n",
    "\n",
    "# Using Sum function\n",
    "print(\"The sum all the items is \",sum(lis))"
   ]
  },
  {
   "cell_type": "markdown",
   "id": "9d83a407",
   "metadata": {},
   "source": [
    "### Q2: Write a Python program to get the largest number from the list"
   ]
  },
  {
   "cell_type": "code",
   "execution_count": 20,
   "id": "5ecdcff0",
   "metadata": {},
   "outputs": [
    {
     "name": "stdout",
     "output_type": "stream",
     "text": [
      "the largest number is  45\n",
      "the largest number is  45\n"
     ]
    }
   ],
   "source": [
    "# Using for loop \n",
    "x = 0\n",
    "for i in lis:\n",
    "    if i > x:\n",
    "        x = i \n",
    "print(\"the largest number is \",x)\n",
    "\n",
    "# Using Max function\n",
    "print(\"the largest number is \", max(lis))"
   ]
  },
  {
   "cell_type": "markdown",
   "id": "02d0c9a3",
   "metadata": {},
   "source": [
    "### Q3: Use list comprehension, create a new list from the above list containing only even numbers"
   ]
  },
  {
   "cell_type": "code",
   "execution_count": 6,
   "id": "f9471742",
   "metadata": {},
   "outputs": [
    {
     "name": "stdout",
     "output_type": "stream",
     "text": [
      "[4, 30, 2, 10]\n"
     ]
    }
   ],
   "source": [
    "lis2 = [ i for i in lis if i % 2 == 0]\n",
    "print(lis2)"
   ]
  },
  {
   "cell_type": "markdown",
   "id": "b1afc461",
   "metadata": {},
   "source": [
    "### Q4: Use list slicing to get a new list from the previous list starting from the start to the 5th element in the list"
   ]
  },
  {
   "cell_type": "code",
   "execution_count": 10,
   "id": "6c08bb93",
   "metadata": {},
   "outputs": [
    {
     "name": "stdout",
     "output_type": "stream",
     "text": [
      "[5, 4, 17, 19, 30]\n"
     ]
    }
   ],
   "source": [
    "lis3 = lis[:5]\n",
    "print(lis3)"
   ]
  }
 ],
 "metadata": {
  "kernelspec": {
   "display_name": "Python 3 (ipykernel)",
   "language": "python",
   "name": "python3"
  },
  "language_info": {
   "codemirror_mode": {
    "name": "ipython",
    "version": 3
   },
   "file_extension": ".py",
   "mimetype": "text/x-python",
   "name": "python",
   "nbconvert_exporter": "python",
   "pygments_lexer": "ipython3",
   "version": "3.9.12"
  }
 },
 "nbformat": 4,
 "nbformat_minor": 5
}
