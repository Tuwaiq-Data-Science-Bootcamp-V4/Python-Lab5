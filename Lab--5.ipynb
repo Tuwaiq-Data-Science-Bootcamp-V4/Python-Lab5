{
 "cells": [
  {
   "cell_type": "markdown",
   "id": "c1643d30",
   "metadata": {},
   "source": [
    "# lab-5\n"
   ]
  },
  {
   "cell_type": "markdown",
   "id": "d8006822",
   "metadata": {},
   "source": [
    "## Q1: Write a Python program to sum all the items in the list."
   ]
  },
  {
   "cell_type": "code",
   "execution_count": 19,
   "id": "a61ab578",
   "metadata": {},
   "outputs": [
    {
     "name": "stdout",
     "output_type": "stream",
     "text": [
      "139\n"
     ]
    }
   ],
   "source": [
    "list1=[5, 4, 17, 19, 30, 2, 7, 10, 45]\n",
    "total=0\n",
    "for num in list1:\n",
    "    total = total + num\n",
    "print(total)\n"
   ]
  },
  {
   "cell_type": "markdown",
   "id": "5231e388",
   "metadata": {},
   "source": [
    "## Q2: Write a Python program to get the largest number from the list."
   ]
  },
  {
   "cell_type": "code",
   "execution_count": 15,
   "id": "bdd598f7",
   "metadata": {},
   "outputs": [
    {
     "name": "stdout",
     "output_type": "stream",
     "text": [
      "45\n"
     ]
    }
   ],
   "source": [
    "max_number = 0\n",
    "for num in list1:\n",
    "    if num>max_number:\n",
    "        max_number=num\n",
    "print(max_number)"
   ]
  },
  {
   "cell_type": "markdown",
   "id": "3b0ca63f",
   "metadata": {},
   "source": [
    "## Q3: Use list comprehension, create a new list from the above list containing only even numbers."
   ]
  },
  {
   "cell_type": "code",
   "execution_count": 16,
   "id": "798f26d0",
   "metadata": {},
   "outputs": [
    {
     "name": "stdout",
     "output_type": "stream",
     "text": [
      "[4, 30, 2, 10]\n"
     ]
    }
   ],
   "source": [
    "x=[num for num in list1 if num % 2 == 0]\n",
    "print(x)"
   ]
  },
  {
   "cell_type": "markdown",
   "id": "aaa753db",
   "metadata": {},
   "source": [
    "## Q4: Use list slicing to get a new list from the previous list starting from the start to the 5th element in the list."
   ]
  },
  {
   "cell_type": "code",
   "execution_count": 18,
   "id": "04dcc676",
   "metadata": {},
   "outputs": [
    {
     "name": "stdout",
     "output_type": "stream",
     "text": [
      "[5, 4, 17, 19, 30, 2]\n"
     ]
    }
   ],
   "source": [
    "y=slice(0,6)\n",
    "print(list1[y])"
   ]
  }
 ],
 "metadata": {
  "kernelspec": {
   "display_name": "Python 3 (ipykernel)",
   "language": "python",
   "name": "python3"
  },
  "language_info": {
   "codemirror_mode": {
    "name": "ipython",
    "version": 3
   },
   "file_extension": ".py",
   "mimetype": "text/x-python",
   "name": "python",
   "nbconvert_exporter": "python",
   "pygments_lexer": "ipython3",
   "version": "3.11.3"
  }
 },
 "nbformat": 4,
 "nbformat_minor": 5
}
